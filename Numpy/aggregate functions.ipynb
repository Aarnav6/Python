{
 "cells": [
  {
   "cell_type": "markdown",
   "id": "c9583ed2",
   "metadata": {},
   "source": [
    "<div style=\"font-size:13px\">\n",
    "\n",
    "#### 🟢 NumPy Aggregate Functions Notes\n",
    "\n",
    "\n",
    "\n",
    "### 1️⃣ What are Aggregate Functions?  \n",
    "Aggregate functions are **functions that summarize multiple values into a single value**.  \n",
    "- Often used for **statistical operations** like sum, mean, min, max, etc.  \n",
    "- Operates **on entire arrays** or **along a specified axis**.\n",
    "\n",
    "\n",
    "\n",
    "### 2️⃣ Common Aggregate Functions in NumPy\n",
    "\n",
    "| Function | Description | Example |\n",
    "|----------|-------------|---------|\n",
    "| `np.sum()` | Sum of all elements | `np.sum(arr)` |\n",
    "| `np.mean()` | Average value | `np.mean(arr)` |\n",
    "| `np.min()` | Minimum value | `np.min(arr)` |\n",
    "| `np.max()` | Maximum value | `np.max(arr)` |\n",
    "| `np.argmin()` | Index of minimum value | `np.argmin(arr)` |\n",
    "| `np.argmax()` | Index of maximum value | `np.argmax(arr)` |\n",
    "| `np.std()` | Standard deviation | `np.std(arr)` |\n",
    "| `np.var()` | Variance | `np.var(arr)` |\\\n",
    "| `np.prod()` | Product of all elements | `np.prod(arr)` |\n",
    "| `np.cumsum()` | Cumulative sum | `np.cumsum(arr)` |\n",
    "| `np.cumprod()` | Cumulative product | `np.cumprod(arr)` |\n",
    "\n",
    "\n",
    "\n",
    "### 3️⃣ Axis Parameter\n",
    "- `axis=None` → operate on **flattened array** (default)  \n",
    "- `axis=0` → operate **column-wise** (down the rows)  \n",
    "- `axis=1` → operate **row-wise** (across columns)  \n",
    "\n",
    "**Example:** \n",
    "\n",
    "</div>"
   ]
  },
  {
   "cell_type": "code",
   "execution_count": null,
   "id": "7d4ac51b",
   "metadata": {},
   "outputs": [],
   "source": [
    "import numpy as np\n",
    "\n",
    "arr = np.array([[1,2,3],\n",
    "                [4,5,6]])\n",
    "\n",
    "print(np.sum(arr))     # 21 (all elements)\n",
    "print(np.sum(arr, axis=0)) # [5 7 9] (column-wise)\n",
    "print(np.sum(arr, axis=1)) # [6 15] (row-wise)\n",
    "print(f'the minimum value is at index: {np.argmin(arr)}')\n",
    "print(f'the maximum value is at index: {np.argmax(arr)}') "
   ]
  }
 ],
 "metadata": {
  "kernelspec": {
   "display_name": "Python 3",
   "language": "python",
   "name": "python3"
  },
  "language_info": {
   "codemirror_mode": {
    "name": "ipython",
    "version": 3
   },
   "file_extension": ".py",
   "mimetype": "text/x-python",
   "name": "python",
   "nbconvert_exporter": "python",
   "pygments_lexer": "ipython3",
   "version": "3.13.7"
  }
 },
 "nbformat": 4,
 "nbformat_minor": 5
}

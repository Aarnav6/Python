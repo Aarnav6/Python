{
 "cells": [
  {
   "cell_type": "markdown",
   "id": "f33732cf",
   "metadata": {},
   "source": [
    "<div style=\"font-size:15px\">\n",
    "\n",
    "#### 🟢NumPy Broadcasting Notes\n",
    "\n",
    "Broadcasting in NumPy is a **powerful way to perform operations on arrays of different shapes** without explicit loops.\n",
    "\n",
    "## 🔹 What is Broadcasting?\n",
    "\n",
    "- NumPy automatically **stretches smaller arrays** to match the shape of larger arrays for **element-wise operations**.\n",
    "- Memory-efficient: **no actual copying** happens.\n",
    "  - NOTE: these array stretches are not physical there just virtualy done hence they do no take any extra space\n",
    "  - It’s “virtual” in the sense that NumPy just computes the indices on-the-fly.\n",
    "  - For example:  \n",
    "    - if you broadcast a (3, 1) array to (3, 4), NumPy doesn’t actually create 3×4 numbers in memory. Instead, it treats the single column as if\n",
    "      it were repeated 4 times whenever you access the elements.\n",
    "- Example:\n",
    "\n",
    "</div>"
   ]
  },
  {
   "cell_type": "code",
   "execution_count": null,
   "id": "905027b2",
   "metadata": {},
   "outputs": [],
   "source": [
    "A = np.array([[1, 2, 3],\n",
    "              [4, 5, 6]])   # Shape (2, 3)\n",
    "B = np.array([[10, 20, 30]])  # Shape (1,3)\n",
    "\n",
    "'''\n",
    "the 1 row in B will be streched to 2 and 3 is collumn is already common/same in both arrays\n",
    "'''\n",
    "print(A + B)\n"
   ]
  },
  {
   "cell_type": "code",
   "execution_count": null,
   "id": "b821ed82",
   "metadata": {},
   "outputs": [],
   "source": [
    "import numpy as np\n",
    "\n",
    "a = np.array([1, 2, 3])\n",
    "b = 10\n",
    "print(a + b)  # Output: [11 12 13]"
   ]
  },
  {
   "cell_type": "markdown",
   "id": "c43a8302",
   "metadata": {},
   "source": [
    "<div style=\"font-size:15px\">\n",
    "\n",
    "#### 🟢Broadcasting Rules\n",
    "\n",
    "- If arrays have different dimensions, prepend 1s to the smaller array’s shape.\n",
    "- Arrays are compatible along a dimension if:\n",
    "  - They are equal\n",
    "  - One of them is 1\n",
    "- Broadcasting works if all dimensions are compatible.\n",
    "\n",
    "</div>"
   ]
  },
  {
   "cell_type": "code",
   "execution_count": null,
   "id": "eb6c9679",
   "metadata": {},
   "outputs": [],
   "source": [
    "A = np.array([[1, 2, 3],\n",
    "              [4, 5, 6]])  # Shape (2,3)\n",
    "B = np.array([1, 2])        # Shape (2,)\n",
    "\n",
    "print(A + B)  # ❌ Error"
   ]
  },
  {
   "cell_type": "markdown",
   "id": "944e6e9c",
   "metadata": {},
   "source": [
    "<div style=\"font-size:15px\">\n",
    "\n",
    "Error: `ValueError: operands could not be broadcast together with shapes (2,3) (2,)`\n",
    "\n",
    "✅ Shapes are incompatible.\n",
    "\n",
    "- Key Takeaways\n",
    "\n",
    " - Broadcasting = automatic stretching of arrays.\n",
    " - Works with scalars, vectors, matrices.\n",
    "\n",
    " - Rules:\n",
    "   - Prepend 1s for missing dimensions.\n",
    "   - Dimensions must be equal or 1.\n",
    "   - Incompatible shapes → error.\n",
    "   - Memory-efficient: uses views, not copies.\n",
    "\n",
    "</div>"
   ]
  }
 ],
 "metadata": {
  "kernelspec": {
   "display_name": "Python 3",
   "language": "python",
   "name": "python3"
  },
  "language_info": {
   "codemirror_mode": {
    "name": "ipython",
    "version": 3
   },
   "file_extension": ".py",
   "mimetype": "text/x-python",
   "name": "python",
   "nbconvert_exporter": "python",
   "pygments_lexer": "ipython3",
   "version": "3.13.7"
  }
 },
 "nbformat": 4,
 "nbformat_minor": 5
}

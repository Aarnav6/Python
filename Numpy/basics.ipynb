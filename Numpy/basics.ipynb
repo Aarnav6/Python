{
 "cells": [
  {
   "cell_type": "markdown",
   "id": "dd0ad1c1",
   "metadata": {},
   "source": [
    "### Methods \n",
    "`shape` : to get the shape  \n",
    "`ndim` : to get the dimension  \n",
    "**NOTE : ar.shape and np.shape(ar) both are valid in python and we can do this if we dont want to pass argument we can directly pass ar.shape**\n"
   ]
  },
  {
   "cell_type": "code",
   "execution_count": null,
   "id": "01675843",
   "metadata": {},
   "outputs": [],
   "source": [
    "import numpy as np\n",
    "ar = np.array(['A','B'])\n",
    "print(ar)\n",
    "ar1 = np.array([[10,20],\n",
    "               [30,40],\n",
    "               [50,60]\n",
    "               ])\n",
    "print(ar1)\n",
    "# unlike duplicating of list in normal list in pyhton the it multiplies all element \n",
    "ar1 *= 2 \n",
    "print(ar1)"
   ]
  },
  {
   "cell_type": "markdown",
   "id": "4b7693bb",
   "metadata": {},
   "source": [
    "We can also perform slicing in numpy \n",
    "for slicing ar ar2[start_row : end_row : step_col , start_col : end_col : step_col]  \n",
    "by default the step size is 1  \n",
    "by default the end size is len(array)   \n",
    "<strong> we can use step size = -1 to reverse the array </strong>  "
   ]
  },
  {
   "cell_type": "code",
   "execution_count": null,
   "id": "264a7ee6",
   "metadata": {},
   "outputs": [],
   "source": [
    "ar2 = np.array([\n",
    "               [1, 2, 3, 4],     #0\n",
    "               [5, 6, 7, 8],     #1\n",
    "               [9, 10, 11, 12],  #2\n",
    "               [13, 14, 15, 16], #3\n",
    "               [17, 18, 19, 20], #4\n",
    "               [21, 22, 23, 24]  #5\n",
    "               ])\n",
    "print(\"original array:\\n\",ar2)\n",
    "print(\"slicing array:\\n\",ar2[0::,0:1])\n",
    "# array_name[0,3] 0th row [1 2 3 4 ] , 3th index col in this row will give 4 so it works same as array_name[0][3]\n",
    "# but this array_name[0::,0:1] is not same as [0::][0:1] it will be confusing and not work\n",
    "print(\"when setting step (row,col) = (-1,-1):\\n\",ar2[::-1,::-1])"
   ]
  },
  {
   "cell_type": "markdown",
   "id": "1a71b7a7",
   "metadata": {},
   "source": [
    "### Important Stuff\n",
    "- ndim = to get the dimension of array<br>\n",
    "- shape = to get the shape of array<br>\n",
    "  - eg.(2,3,1)this means there are 2 array having 3 array inside each and 1 element in each inner array\n",
    "- can use ar1 ** 2 for squaring each element<br>\n",
    "- can use ar2 ** ar1 each element to the power of ar1 element corresponding to each other<br>"
   ]
  },
  {
   "cell_type": "code",
   "execution_count": null,
   "id": "d014a97f",
   "metadata": {},
   "outputs": [],
   "source": [
    "print(\"ar2:\\n\",ar2)\n",
    "print(f\"ar2.ndim={ar2.ndim}\")\n",
    "print(f\"ar2.shape={ar2.shape}\")"
   ]
  },
  {
   "cell_type": "markdown",
   "id": "14199032",
   "metadata": {},
   "source": [
    "### Types of Array in Numpy\n",
    "- 0D array = a scalar (7)\n",
    "- 1D array = a vector ([1,2,3])\n",
    "- 2D array = a matrix ([[1,2],[3,4]])\n",
    "- 3D array and higher = tensor (shape (x,y,z,...))"
   ]
  },
  {
   "cell_type": "code",
   "execution_count": null,
   "id": "b2d6a974",
   "metadata": {},
   "outputs": [],
   "source": [
    "\"\"\" operations in numpy \"\"\"\n",
    "ap = np.array([2,3,4])\n",
    "am = np.array([4,9,16])\n",
    "print(ap)\n",
    "print(am)\n",
    "print(ap+am)  # add\n",
    "print(ap-am)  # subtract\n",
    "print(ap/am)  # multiply\n",
    "print(ap*am)  # multiply\n",
    "print(ap//am) # floor division\n",
    "print(ap**2)  # squaring ap\n",
    "print(am**2)  # squaring am\n",
    "print(ap**am) # power"
   ]
  },
  {
   "cell_type": "markdown",
   "id": "2f26d12a",
   "metadata": {
    "notebookRunGroups": {
     "groupValue": "1"
    }
   },
   "source": [
    "<div style=\"font-size:12px\">\n",
    "\n",
    "# 🧮 NumPy Array Operations (Compact Version)\n",
    "\n",
    "### 🔹 Scalars (0D arrays)\n",
    "**Example:** `s = np.array(5)`  \n",
    "- Arithmetic: `+`, `-`, `*`, `/`, `**`  \n",
    "- Math functions: `np.sqrt(s)`, `np.exp(s)`, `np.log(s)`  \n",
    "- Dot product: `np.dot(s, s)` ✅  \n",
    "- ❌ Not allowed: cross product, matrix multiplication (`@`)  \n",
    "\n",
    "### 🔹 Vectors (1D arrays)\n",
    "**Example:** `v1 = np.array([1,2,3])`  \n",
    "- Element-wise arithmetic: `v1 + v2`, `v1 - v2`, `v1 * 2` (broadcasting)  \n",
    "- Dot product: `np.dot(v1, v2)` or `v1 @ v2` → scalar  \n",
    "- Cross product: `np.cross(v1, v2)` → only 3D vectors  \n",
    "- Outer product: `v1[:, None] @ v2[None, :]` → matrix  \n",
    "- Aggregation: `np.sum(v1)`, `np.mean(v1)`  \n",
    "- Universal functions: `np.sqrt(v1)`, `np.exp(v1)`  \n",
    "\n",
    "### 🔹 Matrices (2D arrays)\n",
    "**Example:** `A = np.array([[1,2],[3,4]])`  \n",
    "- Element-wise arithmetic: `A + B`, `A - B`, `A * B` ✅ (Hadamard)  \n",
    "- Matrix multiplication: `A @ B` or `np.dot(A,B)`  \n",
    "- Transpose: `A.T`  \n",
    "- Linear algebra: `np.linalg.det(A)`, `np.linalg.inv(A)`, `np.trace(A)`  \n",
    "- Aggregation / broadcast: `np.sum(A)`, `np.mean(A)`, `A + 10`  \n",
    "\n",
    "### 🔹 Tensors (3D+ arrays)\n",
    "**Example:** `T = np.array([[[1,2],[3,4]], [[5,6],[7,8]]])`  \n",
    "- Element-wise arithmetic: `T + 1`, `T * T` (broadcasting)  \n",
    "- Aggregation: `np.sum(T)`, `np.mean(T, axis=...)`  \n",
    "- Tensor dot product: `np.tensordot(T1, T2, axes=...)`  \n",
    "- Batch matrix multiplication: `np.matmul(T1, T2)` or `@`  \n",
    "- Universal functions: `np.sqrt(T)`, `np.exp(T)`  \n",
    "\n",
    "### ⚡ Quick Notes\n",
    "- `*` → element-wise multiplication (Hadamard)  \n",
    "- `@` → matrix multiplication (linear algebra)  \n",
    "- `np.dot` → dot product (vector) / matrix multiply (2D)  \n",
    "- `np.tensordot` / `np.matmul` → generalized tensor multiplication  \n",
    "\n",
    "### 🔹 Tensor Operations: NumPy vs TensorFlow\n",
    "- ✅ **NumPy:** works with tensors (`np.matmul`, `np.tensordot`)  \n",
    "- ⚡ **TensorFlow:**  \n",
    "  - GPU/TPU support → faster large tensor ops  \n",
    "  - Automatic differentiation → for neural networks  \n",
    "  - Computation graphs & distributed computing → production ML  \n",
    "- 🟦 **NumPy:** general computation  \n",
    "- 🟩 **TensorFlow:** ML & deep learning with large tensors  \n",
    "\n",
    "</div>"
   ]
  },
  {
   "cell_type": "code",
   "execution_count": null,
   "id": "7b8f0f53",
   "metadata": {
    "notebookRunGroups": {
     "groupValue": "2"
    }
   },
   "outputs": [],
   "source": [
    "# trying some numpy methods: \n",
    "a1New = np.array(np.array([1.5,2.8,3.2]))\n",
    "print(np.sqrt(a1New))\n",
    "print(np.floor(a1New))\n",
    "print(np.ceil(a1New))\n",
    "print(np.round(a1New))\n",
    "print(np.pi)"
   ]
  },
  {
   "cell_type": "code",
   "execution_count": null,
   "id": "44823e31",
   "metadata": {},
   "outputs": [],
   "source": [
    "ar = np.array([1,2,3,4,5])"
   ]
  }
 ],
 "metadata": {
  "kernelspec": {
   "display_name": "Python 3",
   "language": "python",
   "name": "python3"
  },
  "language_info": {
   "codemirror_mode": {
    "name": "ipython",
    "version": 3
   },
   "file_extension": ".py",
   "mimetype": "text/x-python",
   "name": "python",
   "nbconvert_exporter": "python",
   "pygments_lexer": "ipython3",
   "version": "3.13.7"
  }
 },
 "nbformat": 4,
 "nbformat_minor": 5
}

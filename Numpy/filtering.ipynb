{
 "cells": [
  {
   "cell_type": "markdown",
   "id": "bec71398",
   "metadata": {},
   "source": [
    "<div style=\"font-size:13px>\n",
    "\n",
    "#### 🟢 NumPy Boolean Indexing\n",
    "\n",
    "Boolean indexing is a **way to filter elements in a NumPy array** using a condition,  \n",
    "without writing loops. It is also called **boolean masking** and is faster than using `np.where()`\n",
    "\n",
    "✅ Key Points:\n",
    "\n",
    " - Boolean indexing avoids explicit loops.\n",
    " - It works with any condition (>, <, ==, !=).\n",
    " - Can combine conditions with & (and), | (or):\n",
    "\n",
    "</div>"
   ]
  },
  {
   "cell_type": "code",
   "execution_count": null,
   "id": "23230da6",
   "metadata": {},
   "outputs": [],
   "source": [
    "'''\n",
    "import numpy as np\n",
    "\n",
    "# Create an array\n",
    "arr = np.array([1, 2, 3, 4, 5, 6])\n",
    "\n",
    "# Create a boolean mask\n",
    "mask = arr > 3  # Condition: elements greater than 3\n",
    "print(mask)\n",
    "sel = [True, False, True, False, True, False]\n",
    "print(arr[mask])\n",
    "\n",
    "# the above thing can directly be achived by doing\n",
    "# By the way this is also called boolean indexing \n",
    "# boolean indexing is faster than creating the np.where() functions\n",
    "'''\n",
    "\n",
    "import numpy as np\n",
    "arr = np.array([1, 2, 3, 4, 5, 6])\n",
    "greaterThan3 = arr[arr>3]\n",
    "print(greaterThan3)"
   ]
  },
  {
   "cell_type": "code",
   "execution_count": null,
   "id": "b0910592",
   "metadata": {},
   "outputs": [],
   "source": [
    "import numpy as np\n",
    "ages = np.array([[17,89,20,53,67],\n",
    "                [19,16,30,75,87],\n",
    "                [39,22,15,98,45],\n",
    "                [12,5,7,21,9]])\n",
    "grp_A = ages[ages<=13]\n",
    "grp_B = ages[(ages>13) & (ages<18)]\n",
    "grp_C = ages[(ages>=18) & (ages<=20)]\n",
    "grp_D = ages[(ages>20) & (ages<=55)]\n",
    "grp_E = ages[ages>55]\n",
    "even_ages = ages[ages%2 == 0]\n",
    "\n",
    "\n",
    "\n",
    "print(grp_A)\n",
    "print(grp_B)\n",
    "print(grp_C)\n",
    "print(grp_D)\n",
    "print(grp_E)\n",
    "print(even_ages)"
   ]
  },
  {
   "cell_type": "markdown",
   "id": "ac73d420",
   "metadata": {},
   "source": [
    "NOTE THAT :\n",
    "- USING WHERE FUNCTION TO PREVENT THE STRUCTURE\n",
    "-  REMEBER THAT WHERE FUNCION IS SLOWER THAN THE BOOOLEAN INDEXING\n",
    "-  where functions takes 3 arguments \n",
    "  - where(condition,x,y) and returns an filtered array\n",
    "    - if the condition is true than in the filtered array `x` argument will be taken for that positon \n",
    "    - if the condition is false than in the filtered array `y` argument will be taken for that positon\n",
    "    - if writen the name of same array in place of `x` or `y` argumennt, it will include same element without replacing (check the code bellow)"
   ]
  },
  {
   "cell_type": "code",
   "execution_count": null,
   "id": "89576d1d",
   "metadata": {},
   "outputs": [],
   "source": [
    "adults = np.where(ages >= 18, ages, -ages) \n",
    "print(adults)\n",
    "\n",
    "# the above code marks the non adults as -ve of their ages wihtout flatening the array unlike boolean indexing\n",
    "# hence the negative marke ages in output are not the adults\n",
    "# NOTE THAT THE -ages IS ONLY POSSIBLE IN NUMPY YOU CAN NOT DO THIS DIRECTLY IN PYTHON"
   ]
  }
 ],
 "metadata": {
  "kernelspec": {
   "display_name": "Python 3",
   "language": "python",
   "name": "python3"
  },
  "language_info": {
   "codemirror_mode": {
    "name": "ipython",
    "version": 3
   },
   "file_extension": ".py",
   "mimetype": "text/x-python",
   "name": "python",
   "nbconvert_exporter": "python",
   "pygments_lexer": "ipython3",
   "version": "3.13.7"
  }
 },
 "nbformat": 4,
 "nbformat_minor": 5
}
